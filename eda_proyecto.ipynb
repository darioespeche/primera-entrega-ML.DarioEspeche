{
 "cells": [
  {
   "cell_type": "markdown",
   "id": "a44b9e70",
   "metadata": {},
   "source": [
    "# Proyecto de EDA - [Tema a definir]\n",
    "\n",
    "## Abstracto\n",
    "# Descripción general del problema y a quién beneficia\n",
    "\n",
    "## Preguntas / Hipótesis\n",
    "# Lista inicial de preguntas a responder\n",
    "\n",
    "## Importación de datos\n",
    "# Aquí se conectará la API o se importará el CSV\n",
    "\n",
    "## Limpieza de datos\n",
    "\n",
    "## Análisis exploratorio (EDA)\n",
    "\n",
    "## Visualizaciones\n",
    "\n",
    "## Insights finales\n"
   ]
  }
 ],
 "metadata": {
  "language_info": {
   "name": "python"
  }
 },
 "nbformat": 4,
 "nbformat_minor": 5
}
